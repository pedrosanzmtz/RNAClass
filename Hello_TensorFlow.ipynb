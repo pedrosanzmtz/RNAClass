{
 "cells": [
  {
   "cell_type": "markdown",
   "metadata": {},
   "source": [
    "# Hello TensorFlow\n",
    "\n",
    "Welcome to my TensorFlow tutorial, I made it to teach an introduction to this library for the Artificial Neural Network Class.\n",
    "\n",
    "You can learn yourself Tensorflow from its own web page [Get Started](https://www.tensorflow.org/get_started/)\n",
    "\n",
    "## Installing\n",
    "\n",
    "You can find many options to install TensorFlow in your enviroment from the source [Install](https://www.tensorflow.org/install/)\n",
    "\n",
    "If you are lazy, follow my instructions :)\n",
    "\n",
    "Install TensorFlow using pip:\n",
    "\n",
    "pip install TensorFlow\n",
    "\n",
    "Is that it?\n",
    "\n",
    "Yes, that's all. Now you can test if you have do it ok, importing the library using:"
   ]
  },
  {
   "cell_type": "code",
   "execution_count": 1,
   "metadata": {
    "collapsed": true
   },
   "outputs": [],
   "source": [
    "import tensorflow as tf"
   ]
  },
  {
   "cell_type": "markdown",
   "metadata": {},
   "source": [
    "We imported TensorFlow with the alias tf, now we can access to all the methods and classes. If you have problems importing tensorflow, consider to resintall tensorflow, use a virtual enviroment, use conda, if you are in unix like linux o MacOs, use sudo before pip, example: sudo pip install TensorFlow."
   ]
  },
  {
   "cell_type": "markdown",
   "metadata": {},
   "source": [
    "## Tensors\n",
    "\n",
    "If you want to know about tensors, there is always a link in the official web page [Tensors](https://www.tensorflow.org/programmers_guide/tensors)\n",
    "\n",
    "But I will teach my own way.\n",
    "\n",
    "Tensors are multidimensional arrays, a tensor has the properties:\n",
    "    - Shape\n",
    "    - Datatype: int32, float32, string, etc.\n",
    "Let's create variables o tensors.\n"
   ]
  },
  {
   "cell_type": "code",
   "execution_count": 2,
   "metadata": {
    "collapsed": true
   },
   "outputs": [],
   "source": [
    "string1 = tf.Variable('Hello1', tf.string)\n",
    "string2 = tf.Variable('hello2')\n",
    "int1 = tf.Variable(5)\n",
    "int2 = tf.Variable(6, tf.int16)\n",
    "int3 = tf.Variable(3, tf.int32)\n",
    "float1 = tf.Variable(5.0)\n",
    "float2 = tf.Variable(6.0, tf.float32)"
   ]
  },
  {
   "cell_type": "markdown",
   "metadata": {},
   "source": [
    "Now let's print this variables"
   ]
  },
  {
   "cell_type": "code",
   "execution_count": 3,
   "metadata": {
    "collapsed": true
   },
   "outputs": [],
   "source": [
    "from __future__ import print_function"
   ]
  },
  {
   "cell_type": "code",
   "execution_count": 4,
   "metadata": {},
   "outputs": [
    {
     "data": {
      "text/plain": [
       "(<tf.Variable 'Variable:0' shape=() dtype=string_ref>,\n",
       " <tf.Variable 'Variable_1:0' shape=() dtype=string_ref>)"
      ]
     },
     "execution_count": 4,
     "metadata": {},
     "output_type": "execute_result"
    }
   ],
   "source": [
    "string1, string2"
   ]
  },
  {
   "cell_type": "markdown",
   "metadata": {},
   "source": [
    "We can see the we can specify or not the type o variable, tensorflow makes the variable as a string when the string is given as parameter"
   ]
  },
  {
   "cell_type": "code",
   "execution_count": 5,
   "metadata": {},
   "outputs": [
    {
     "data": {
      "text/plain": [
       "(<tf.Variable 'Variable_2:0' shape=() dtype=int32_ref>,\n",
       " <tf.Variable 'Variable_3:0' shape=() dtype=int32_ref>,\n",
       " <tf.Variable 'Variable_4:0' shape=() dtype=int32_ref>)"
      ]
     },
     "execution_count": 5,
     "metadata": {},
     "output_type": "execute_result"
    }
   ],
   "source": [
    "int1, int2, int3"
   ]
  },
  {
   "cell_type": "markdown",
   "metadata": {},
   "source": [
    "if you don't specify the type of a integer, tensorflow creates a int32 variable, integers can not be int16 in systems with 64 bits."
   ]
  },
  {
   "cell_type": "code",
   "execution_count": 6,
   "metadata": {},
   "outputs": [
    {
     "data": {
      "text/plain": [
       "(<tf.Variable 'Variable_5:0' shape=() dtype=float32_ref>,\n",
       " <tf.Variable 'Variable_6:0' shape=() dtype=float32_ref>)"
      ]
     },
     "execution_count": 6,
     "metadata": {},
     "output_type": "execute_result"
    }
   ],
   "source": [
    "float1, float2"
   ]
  },
  {
   "cell_type": "markdown",
   "metadata": {},
   "source": [
    "The same happens with the float variables"
   ]
  },
  {
   "cell_type": "markdown",
   "metadata": {},
   "source": [
    "## Tensors n-dimensions"
   ]
  },
  {
   "cell_type": "code",
   "execution_count": 7,
   "metadata": {
    "collapsed": true
   },
   "outputs": [],
   "source": [
    "rank0 = tf.Variable(1)\n",
    "rank1= tf.Variable([1, 2])\n",
    "rank2 = tf.Variable([[1, 2],\n",
    "                     [3, 4]])"
   ]
  },
  {
   "cell_type": "markdown",
   "metadata": {},
   "source": [
    "We can continue creating variables with n dimensions and we can not finish\n",
    "The most commons variables are rank 2, 3, and 4\n",
    "- 2 when you have a data set with n features and m instances n x m, example: the iris data set\n",
    "- 3 normally used when the instances are images in gray scale \n",
    "- 4 in data sets when the images are in rgb"
   ]
  },
  {
   "cell_type": "code",
   "execution_count": 8,
   "metadata": {
    "collapsed": true
   },
   "outputs": [],
   "source": [
    "rank3 = tf.zeros([10, 28, 28]) # 10 images in gray scale size 28 x 28\n",
    "rank4 = tf.zeros([10, 32, 32, 3]) # 10  images in rgb size 32 x 32"
   ]
  },
  {
   "cell_type": "markdown",
   "metadata": {},
   "source": [
    "## I can not see the values of my tensors\n",
    "\n",
    "All variables are created but the values are not computed yet, to compute a value you need to create a session and initialize all variables with the next code."
   ]
  },
  {
   "cell_type": "code",
   "execution_count": 9,
   "metadata": {},
   "outputs": [
    {
     "data": {
      "text/plain": [
       "[1, array([1, 2], dtype=int32), array([[1, 2],\n",
       "        [3, 4]], dtype=int32)]"
      ]
     },
     "execution_count": 9,
     "metadata": {},
     "output_type": "execute_result"
    }
   ],
   "source": [
    "init = tf.global_variables_initializer()\n",
    "sess = tf.Session()\n",
    "sess.run(init)\n",
    "\n",
    "values = sess.run([rank0, rank1, rank2])\n",
    "\n",
    "sess.close()\n",
    "\n",
    "values"
   ]
  },
  {
   "cell_type": "markdown",
   "metadata": {},
   "source": [
    "## PlaceHolder\n",
    "A placeholder is a variable that will get a value later, like the inputs values in a model"
   ]
  },
  {
   "cell_type": "code",
   "execution_count": 10,
   "metadata": {},
   "outputs": [
    {
     "data": {
      "text/plain": [
       "13.0"
      ]
     },
     "execution_count": 10,
     "metadata": {},
     "output_type": "execute_result"
    }
   ],
   "source": [
    "x = tf.placeholder(tf.float32)\n",
    "y = tf.placeholder(tf.float32)\n",
    "add = tf.add(x, y)\n",
    "\n",
    "# now in a session we put this values as input\n",
    "\n",
    "sess = tf.Session()\n",
    "\n",
    "add_value = sess.run(add, {x: 5, y: 8})\n",
    "\n",
    "add_value"
   ]
  },
  {
   "cell_type": "markdown",
   "metadata": {},
   "source": [
    "add is the value we want and x and y are placeholders and we can choose their values later."
   ]
  },
  {
   "cell_type": "markdown",
   "metadata": {},
   "source": [
    "## Create a linear model\n",
    "\n",
    "I will not teach you anything new, remember there is always a link for everything: [Get started](https://www.tensorflow.org/get_started/get_started) this example is the best to learn how TensorFlow works.\n",
    "\n",
    "The formule is y = m * x + b\n",
    "where:\n",
    "    y: is the variable we want to predict\n",
    "    x: is the explanatory variable\n",
    "    b: is the slope\n",
    "    m: is the intercept (the value of y when x = 0)"
   ]
  },
  {
   "cell_type": "code",
   "execution_count": 11,
   "metadata": {
    "collapsed": true
   },
   "outputs": [],
   "source": [
    "w = tf.Variable([.3], tf.float32)\n",
    "b = tf.Variable([-.3], tf.float32)\n",
    "x = tf.placeholder(tf.float32)\n",
    "yp = w * x + b"
   ]
  },
  {
   "cell_type": "markdown",
   "metadata": {},
   "source": [
    "Now lets evaluate our model"
   ]
  },
  {
   "cell_type": "code",
   "execution_count": 12,
   "metadata": {},
   "outputs": [
    {
     "data": {
      "text/plain": [
       "array([ 0.        ,  0.30000001,  0.60000002,  0.90000004], dtype=float32)"
      ]
     },
     "execution_count": 12,
     "metadata": {},
     "output_type": "execute_result"
    }
   ],
   "source": [
    "init = tf.global_variables_initializer()\n",
    "sess = tf.Session()\n",
    "sess.run(init)\n",
    "\n",
    "predicted = sess.run(yp, {x: [1, 2, 3, 4]})\n",
    "\n",
    "predicted"
   ]
  },
  {
   "cell_type": "markdown",
   "metadata": {},
   "source": [
    "Now we have our model, we need to evaluate how good it is. We calculate the evaluation using the sum of the square of the deltas between yp and y provided for us."
   ]
  },
  {
   "cell_type": "code",
   "execution_count": 13,
   "metadata": {},
   "outputs": [
    {
     "data": {
      "text/plain": [
       "23.66"
      ]
     },
     "execution_count": 13,
     "metadata": {},
     "output_type": "execute_result"
    }
   ],
   "source": [
    "y = tf.placeholder(tf.float32)\n",
    "squared_deltas = tf.square(yp - y)\n",
    "loss = tf.reduce_sum(squared_deltas)\n",
    "\n",
    "y_expected = [0, -1, -2, -3]\n",
    "\n",
    "x_values = [1, 2, 3, 4]\n",
    "\n",
    "loss_value = sess.run(loss, {x: x_values, y: y_expected})\n",
    "\n",
    "loss_value"
   ]
  },
  {
   "cell_type": "markdown",
   "metadata": {},
   "source": [
    "The loss is not good, must be around 0.\n",
    "\n",
    "## Plotting\n",
    "\n",
    "It's always good to visualize and compare our results instead of seeing just numbers"
   ]
  },
  {
   "cell_type": "code",
   "execution_count": 14,
   "metadata": {},
   "outputs": [
    {
     "data": {
      "image/png": "[encoded data removed]",
      "text/plain": [
       "<matplotlib.figure.Figure at 0x7f8f03060c10>"
      ]
     },
     "metadata": {},
     "output_type": "display_data"
    }
   ],
   "source": [
    "%matplotlib inline\n",
    "import matplotlib.pyplot as plt\n",
    "\n",
    "plt.plot(x_values, y_expected, label='expected')\n",
    "plt.plot(x_values, predicted, label='predicted')\n",
    "\n",
    "plt.xlabel('x label')\n",
    "plt.ylabel('y label')\n",
    "\n",
    "plt.title('Comparing results')\n",
    "plt.legend()\n",
    "plt.show()"
   ]
  },
  {
   "cell_type": "markdown",
   "metadata": {},
   "source": [
    "## Time to train\n",
    "Tensorflow privides the class train that contains optimizar to reduce the loss in our model, here we will use the Gradient Descent."
   ]
  },
  {
   "cell_type": "code",
   "execution_count": 15,
   "metadata": {},
   "outputs": [
    {
     "data": {
      "text/plain": [
       "(-0.9999969005584717, 0.9999908208847046)"
      ]
     },
     "execution_count": 15,
     "metadata": {},
     "output_type": "execute_result"
    }
   ],
   "source": [
    "optimizer = tf.train.GradientDescentOptimizer(0.01)\n",
    "train = optimizer.minimize(loss)\n",
    "sess.run(init) # reset values to incorrect defaults.\n",
    "for i in range(1000):\n",
    "  sess.run(train, {x: [1, 2, 3, 4], y: [0, -1, -2, -3]})\n",
    "\n",
    "w_value, b_value = sess.run([w, b])\n",
    "\n",
    "w_value = float(w_value)\n",
    "\n",
    "b_value = float(b_value)\n",
    "\n",
    "w_value, b_value"
   ]
  },
  {
   "cell_type": "markdown",
   "metadata": {},
   "source": [
    "This model trained provided the correct values for w and b, these are our weights to use in the model and calculate again the loss:\n",
    "the value for w is almost -1 and for b almost 1, so let's assing this values"
   ]
  },
  {
   "cell_type": "code",
   "execution_count": 16,
   "metadata": {},
   "outputs": [
    {
     "data": {
      "text/plain": [
       "5.6999738e-11"
      ]
     },
     "execution_count": 16,
     "metadata": {},
     "output_type": "execute_result"
    }
   ],
   "source": [
    "fixW = tf.assign(w, [w_value])\n",
    "fixb = tf.assign(b, [b_value])\n",
    "sess.run([fixW, fixb])\n",
    "loss_value = sess.run(loss, {x: x_values, y: y_expected})\n",
    "\n",
    "loss_value"
   ]
  },
  {
   "cell_type": "markdown",
   "metadata": {},
   "source": [
    "Now our loss function is almost 0, that means that our train almost provided the almost the correct values for w and b.\n",
    "\n",
    "Now we can predict values and visualize a new plot:\n",
    "\n",
    "## Better results"
   ]
  },
  {
   "cell_type": "code",
   "execution_count": 17,
   "metadata": {},
   "outputs": [
    {
     "data": {
      "image/png": "[encoded data removed]",
      "text/plain": [
       "<matplotlib.figure.Figure at 0x7f8f0311de90>"
      ]
     },
     "metadata": {},
     "output_type": "display_data"
    }
   ],
   "source": [
    "predicted = sess.run(yp, {x: x_values})\n",
    "\n",
    "plt.plot(x_values, y_expected, label='expected')\n",
    "plt.plot(x_values, predicted, label='predicted')\n",
    "\n",
    "plt.xlabel('x label')\n",
    "plt.ylabel('y label')\n",
    "\n",
    "plt.title('Comparing results')\n",
    "plt.legend()\n",
    "plt.show()"
   ]
  },
  {
   "cell_type": "code",
   "execution_count": 18,
   "metadata": {},
   "outputs": [
    {
     "data": {
      "text/plain": [
       "array([ -6.07967377e-06,  -1.00000298e+00,  -1.99999988e+00,\n",
       "        -2.99999666e+00], dtype=float32)"
      ]
     },
     "execution_count": 18,
     "metadata": {},
     "output_type": "execute_result"
    }
   ],
   "source": [
    "predicted"
   ]
  },
  {
   "cell_type": "markdown",
   "metadata": {},
   "source": [
    "We were expecting 0, -1, -2 and -3, we almost g"
   ]
  },
  {
   "cell_type": "markdown",
   "metadata": {},
   "source": [
    "## estimator class\n",
    "This class provides a linear model already made, we just feed the model with the values of x and y."
   ]
  },
  {
   "cell_type": "code",
   "execution_count": 19,
   "metadata": {},
   "outputs": [
    {
     "name": "stdout",
     "output_type": "stream",
     "text": [
      "INFO:tensorflow:Using default config.\n",
      "WARNING:tensorflow:Using temporary folder as model directory: /tmp/tmpzNZRrv\n",
      "INFO:tensorflow:Using config: {'_save_checkpoints_secs': 600, '_session_config': None, '_keep_checkpoint_max': 5, '_tf_random_seed': 1, '_keep_checkpoint_every_n_hours': 10000, '_log_step_count_steps': 100, '_save_checkpoints_steps': None, '_model_dir': '/tmp/tmpzNZRrv', '_save_summary_steps': 100}\n",
      "INFO:tensorflow:Create CheckpointSaverHook.\n",
      "INFO:tensorflow:Saving checkpoints for 1 into /tmp/tmpzNZRrv/model.ckpt.\n",
      "INFO:tensorflow:loss = 13.0, step = 1\n",
      "INFO:tensorflow:global_step/sec: 457.005\n",
      "INFO:tensorflow:loss = 0.521752, step = 101 (0.231 sec)\n",
      "INFO:tensorflow:global_step/sec: 501.514\n",
      "INFO:tensorflow:loss = 0.034249, step = 201 (0.197 sec)\n",
      "INFO:tensorflow:global_step/sec: 498.825\n",
      "INFO:tensorflow:loss = 0.00281973, step = 301 (0.194 sec)\n",
      "INFO:tensorflow:global_step/sec: 695.671\n",
      "INFO:tensorflow:loss = 0.000716422, step = 401 (0.145 sec)\n",
      "INFO:tensorflow:global_step/sec: 724.297\n",
      "INFO:tensorflow:loss = 0.000238895, step = 501 (0.142 sec)\n",
      "INFO:tensorflow:global_step/sec: 685.123\n",
      "INFO:tensorflow:loss = 0.000111978, step = 601 (0.142 sec)\n",
      "INFO:tensorflow:global_step/sec: 663.866\n",
      "INFO:tensorflow:loss = 2.15188e-05, step = 701 (0.150 sec)\n",
      "INFO:tensorflow:global_step/sec: 572.22\n",
      "INFO:tensorflow:loss = 2.16458e-06, step = 801 (0.175 sec)\n",
      "INFO:tensorflow:global_step/sec: 672.644\n",
      "INFO:tensorflow:loss = 6.11146e-07, step = 901 (0.148 sec)\n",
      "INFO:tensorflow:Saving checkpoints for 1000 into /tmp/tmpzNZRrv/model.ckpt.\n",
      "INFO:tensorflow:Loss for final step: 8.83943e-08.\n",
      "INFO:tensorflow:Starting evaluation at 2017-10-20-14:21:52\n",
      "INFO:tensorflow:Restoring parameters from /tmp/tmpzNZRrv/model.ckpt-1000\n",
      "INFO:tensorflow:Finished evaluation at 2017-10-20-14:21:52\n",
      "INFO:tensorflow:Saving dict for global step 1000: average_loss = 2.48734e-08, global_step = 1000, loss = 9.94936e-08\n",
      "INFO:tensorflow:Starting evaluation at 2017-10-20-14:21:52\n",
      "INFO:tensorflow:Restoring parameters from /tmp/tmpzNZRrv/model.ckpt-1000\n",
      "INFO:tensorflow:Finished evaluation at 2017-10-20-14:21:53\n",
      "INFO:tensorflow:Saving dict for global step 1000: average_loss = 0.00253847, global_step = 1000, loss = 0.0101539\n"
     ]
    }
   ],
   "source": [
    "import numpy as np\n",
    "\n",
    "# Our only feature is x\n",
    "\n",
    "feature_columns = [tf.feature_column.numeric_column(\"x\", shape=[1])]\n",
    "\n",
    "# Create the estimator\n",
    "\n",
    "estimator = tf.estimator.LinearRegressor(feature_columns=feature_columns)\n",
    "\n",
    "# let's use numpy to create our train and eval values\n",
    "x_train = np.array([1., 2., 3., 4.])\n",
    "y_train = np.array([0., -1., -2., -3.])\n",
    "\n",
    "# These values will not learn the model, this is good to avoid overfitting\n",
    "x_eval = np.array([2., 5., 8., 1.])\n",
    "y_eval = np.array([-1.01, -4.1, -7, 0.])\n",
    "\n",
    "# this input is to train our model\n",
    "\n",
    "input_fn = tf.estimator.inputs.numpy_input_fn(\n",
    "    {\"x\": x_train}, \n",
    "    y_train, \n",
    "    batch_size=4, \n",
    "    num_epochs=None, \n",
    "    shuffle=True)\n",
    "\n",
    "# this input is to evaluate with the same values\n",
    "\n",
    "train_input_fn = tf.estimator.inputs.numpy_input_fn(\n",
    "    {\"x\": x_train}, \n",
    "    y_train, \n",
    "    batch_size=4,\n",
    "    num_epochs=1000, \n",
    "    shuffle=False)\n",
    "\n",
    "# This input is to evaluate with the values did not learn\n",
    "\n",
    "eval_input_fn = tf.estimator.inputs.numpy_input_fn(\n",
    "    {\"x\": x_eval}, \n",
    "    y_eval, batch_size=4, \n",
    "    num_epochs=1000, \n",
    "    shuffle=False)\n",
    "\n",
    "# Here the model train\n",
    "\n",
    "estimator.train(input_fn=input_fn, steps=1000)\n",
    "\n",
    "# Here we evaluate how well our model did.\n",
    "\n",
    "# With the train inputs\n",
    "train_metrics = estimator.evaluate(input_fn=train_input_fn)\n",
    "\n",
    "# With the eval inputs\n",
    "eval_metrics = estimator.evaluate(input_fn=eval_input_fn)"
   ]
  },
  {
   "cell_type": "markdown",
   "metadata": {},
   "source": [
    "We can see that with the train metrics the loss is almost 0 and less than the eval metrics loss, but the important results are from the eval metrics, because evaluate inputs that the model did not learn"
   ]
  },
  {
   "cell_type": "code",
   "execution_count": 20,
   "metadata": {},
   "outputs": [
    {
     "name": "stdout",
     "output_type": "stream",
     "text": [
      "Train metrics:\n",
      "average_loss : 2.48734e-08\n",
      "global_step : 1000\n",
      "loss : 9.94936e-08\n"
     ]
    }
   ],
   "source": [
    "print('Train metrics:')\n",
    "for key in train_metrics:\n",
    "    print(key, ':', train_metrics[key])"
   ]
  },
  {
   "cell_type": "code",
   "execution_count": 21,
   "metadata": {},
   "outputs": [
    {
     "name": "stdout",
     "output_type": "stream",
     "text": [
      "Eval metrics:\n",
      "average_loss : 0.00253847\n",
      "global_step : 1000\n",
      "loss : 0.0101539\n"
     ]
    }
   ],
   "source": [
    "print('Eval metrics:')\n",
    "for key in eval_metrics:\n",
    "    print(key, ':', eval_metrics[key])"
   ]
  }
 ],
 "metadata": {
  "kernelspec": {
   "display_name": "Python 2",
   "language": "python",
   "name": "python2"
  },
  "language_info": {
   "codemirror_mode": {
    "name": "ipython",
    "version": 2
   },
   "file_extension": ".py",
   "mimetype": "text/x-python",
   "name": "python",
   "nbconvert_exporter": "python",
   "pygments_lexer": "ipython2",
   "version": "2.7.12"
  }
 },
 "nbformat": 4,
 "nbformat_minor": 2
}
